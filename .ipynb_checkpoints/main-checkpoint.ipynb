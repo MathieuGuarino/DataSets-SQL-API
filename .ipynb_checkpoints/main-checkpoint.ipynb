{
 "cells": [
  {
   "cell_type": "code",
   "execution_count": 3,
   "id": "generic-trustee",
   "metadata": {},
   "outputs": [],
   "source": [
    "import json\n",
    "\n",
    "import requests\n",
    "\n",
    " \n",
    "\n",
    "#response = requests.get('https://ghoapi.azureedge.net/api/Indicator?$filter=contains(IndicatorName,%20%27Medical%20doctors%27)')\n",
    "medical_doctors_per_10k = requests.get('https://ghoapi.azureedge.net/api/HWF_0001?$filter=date(TimeDimensionBegin) ge 2017-01-01 and date(TimeDimensionBegin) lt 2018-01-01').json()\n",
    "#HWF_0001 is the indicator code for medical doctors per 10000, we then filter by date\n",
    "\n",
    "\n",
    "country_list_code = requests.get('https://ghoapi.azureedge.net/api/DIMENSION/COUNTRY/DimensionValues').json()"
   ]
  },
  {
   "cell_type": "code",
   "execution_count": 4,
   "id": "sacred-standing",
   "metadata": {},
   "outputs": [
    {
     "data": {
      "text/html": [
       "<div>\n",
       "<style scoped>\n",
       "    .dataframe tbody tr th:only-of-type {\n",
       "        vertical-align: middle;\n",
       "    }\n",
       "\n",
       "    .dataframe tbody tr th {\n",
       "        vertical-align: top;\n",
       "    }\n",
       "\n",
       "    .dataframe thead th {\n",
       "        text-align: right;\n",
       "    }\n",
       "</style>\n",
       "<table border=\"1\" class=\"dataframe\">\n",
       "  <thead>\n",
       "    <tr style=\"text-align: right;\">\n",
       "      <th></th>\n",
       "      <th>Code</th>\n",
       "      <th>Title</th>\n",
       "      <th>ParentDimension</th>\n",
       "      <th>Dimension</th>\n",
       "      <th>ParentCode</th>\n",
       "      <th>ParentTitle</th>\n",
       "    </tr>\n",
       "  </thead>\n",
       "  <tbody>\n",
       "    <tr>\n",
       "      <th>0</th>\n",
       "      <td>AGO</td>\n",
       "      <td>Angola</td>\n",
       "      <td>REGION</td>\n",
       "      <td>COUNTRY</td>\n",
       "      <td>AFR</td>\n",
       "      <td>Africa</td>\n",
       "    </tr>\n",
       "    <tr>\n",
       "      <th>1</th>\n",
       "      <td>BDI</td>\n",
       "      <td>Burundi</td>\n",
       "      <td>REGION</td>\n",
       "      <td>COUNTRY</td>\n",
       "      <td>AFR</td>\n",
       "      <td>Africa</td>\n",
       "    </tr>\n",
       "  </tbody>\n",
       "</table>\n",
       "</div>"
      ],
      "text/plain": [
       "  Code    Title ParentDimension Dimension ParentCode ParentTitle\n",
       "0  AGO   Angola          REGION   COUNTRY        AFR      Africa\n",
       "1  BDI  Burundi          REGION   COUNTRY        AFR      Africa"
      ]
     },
     "execution_count": 4,
     "metadata": {},
     "output_type": "execute_result"
    }
   ],
   "source": [
    "\n",
    "import pandas as pd\n",
    "from pandas import json_normalize\n",
    "\n",
    "#flattened_data = json_normalize(country_list_code['value'])\n",
    "country_df = pd.DataFrame(country_list_code['value'])\n",
    "\n",
    "country_df.head(2)"
   ]
  },
  {
   "cell_type": "code",
   "execution_count": 5,
   "id": "educational-header",
   "metadata": {},
   "outputs": [
    {
     "data": {
      "text/html": [
       "<div>\n",
       "<style scoped>\n",
       "    .dataframe tbody tr th:only-of-type {\n",
       "        vertical-align: middle;\n",
       "    }\n",
       "\n",
       "    .dataframe tbody tr th {\n",
       "        vertical-align: top;\n",
       "    }\n",
       "\n",
       "    .dataframe thead th {\n",
       "        text-align: right;\n",
       "    }\n",
       "</style>\n",
       "<table border=\"1\" class=\"dataframe\">\n",
       "  <thead>\n",
       "    <tr style=\"text-align: right;\">\n",
       "      <th></th>\n",
       "      <th>SpatialDim</th>\n",
       "      <th>NumericValue</th>\n",
       "    </tr>\n",
       "  </thead>\n",
       "  <tbody>\n",
       "    <tr>\n",
       "      <th>0</th>\n",
       "      <td>AGO</td>\n",
       "      <td>2.146</td>\n",
       "    </tr>\n",
       "    <tr>\n",
       "      <th>1</th>\n",
       "      <td>ARE</td>\n",
       "      <td>24.356</td>\n",
       "    </tr>\n",
       "  </tbody>\n",
       "</table>\n",
       "</div>"
      ],
      "text/plain": [
       "  SpatialDim  NumericValue\n",
       "0        AGO         2.146\n",
       "1        ARE        24.356"
      ]
     },
     "execution_count": 5,
     "metadata": {},
     "output_type": "execute_result"
    }
   ],
   "source": [
    "doctors_df = pd.DataFrame(medical_doctors_per_10k['value'])[['SpatialDim','NumericValue']]\n",
    "doctors_df.head(2)"
   ]
  },
  {
   "cell_type": "code",
   "execution_count": 6,
   "id": "alternative-conservative",
   "metadata": {},
   "outputs": [],
   "source": [
    "malaria_estimated_numbers = pd.read_csv('./estimated_numbers.csv')"
   ]
  },
  {
   "cell_type": "code",
   "execution_count": 79,
   "id": "qualified-wisconsin",
   "metadata": {},
   "outputs": [
    {
     "data": {
      "text/html": [
       "<div>\n",
       "<style scoped>\n",
       "    .dataframe tbody tr th:only-of-type {\n",
       "        vertical-align: middle;\n",
       "    }\n",
       "\n",
       "    .dataframe tbody tr th {\n",
       "        vertical-align: top;\n",
       "    }\n",
       "\n",
       "    .dataframe thead th {\n",
       "        text-align: right;\n",
       "    }\n",
       "</style>\n",
       "<table border=\"1\" class=\"dataframe\">\n",
       "  <thead>\n",
       "    <tr style=\"text-align: right;\">\n",
       "      <th></th>\n",
       "      <th>Country</th>\n",
       "      <th>Year</th>\n",
       "      <th>No. of cases</th>\n",
       "      <th>No. of deaths</th>\n",
       "      <th>No. of cases_median</th>\n",
       "      <th>No. of cases_min</th>\n",
       "      <th>No. of cases_max</th>\n",
       "      <th>No. of deaths_median</th>\n",
       "      <th>No. of deaths_min</th>\n",
       "      <th>No. of deaths_max</th>\n",
       "      <th>WHO Region</th>\n",
       "    </tr>\n",
       "  </thead>\n",
       "  <tbody>\n",
       "    <tr>\n",
       "      <th>0</th>\n",
       "      <td>Afghanistan</td>\n",
       "      <td>2017</td>\n",
       "      <td>630308[495000-801000]</td>\n",
       "      <td>298[110-510]</td>\n",
       "      <td>630308</td>\n",
       "      <td>495000.0</td>\n",
       "      <td>801000.0</td>\n",
       "      <td>298</td>\n",
       "      <td>110.0</td>\n",
       "      <td>510.0</td>\n",
       "      <td>Eastern Mediterranean</td>\n",
       "    </tr>\n",
       "    <tr>\n",
       "      <th>1</th>\n",
       "      <td>Algeria</td>\n",
       "      <td>2017</td>\n",
       "      <td>0</td>\n",
       "      <td>0</td>\n",
       "      <td>0</td>\n",
       "      <td>NaN</td>\n",
       "      <td>NaN</td>\n",
       "      <td>0</td>\n",
       "      <td>NaN</td>\n",
       "      <td>NaN</td>\n",
       "      <td>Africa</td>\n",
       "    </tr>\n",
       "  </tbody>\n",
       "</table>\n",
       "</div>"
      ],
      "text/plain": [
       "       Country  Year           No. of cases No. of deaths  \\\n",
       "0  Afghanistan  2017  630308[495000-801000]  298[110-510]   \n",
       "1      Algeria  2017                      0             0   \n",
       "\n",
       "   No. of cases_median  No. of cases_min  No. of cases_max  \\\n",
       "0               630308          495000.0          801000.0   \n",
       "1                    0               NaN               NaN   \n",
       "\n",
       "   No. of deaths_median  No. of deaths_min  No. of deaths_max  \\\n",
       "0                   298              110.0              510.0   \n",
       "1                     0                NaN                NaN   \n",
       "\n",
       "              WHO Region  \n",
       "0  Eastern Mediterranean  \n",
       "1                 Africa  "
      ]
     },
     "execution_count": 79,
     "metadata": {},
     "output_type": "execute_result"
    }
   ],
   "source": [
    "malaria_estimated_numbers_2017 = malaria_estimated_numbers[malaria_estimated_numbers['Year'].between(2017, 2017)]\n",
    "malaria_estimated_numbers_2017.head(2)#.sort_values(by=['No. of deaths'])"
   ]
  },
  {
   "cell_type": "code",
   "execution_count": 8,
   "id": "aerial-capital",
   "metadata": {},
   "outputs": [
    {
     "data": {
      "text/html": [
       "<div>\n",
       "<style scoped>\n",
       "    .dataframe tbody tr th:only-of-type {\n",
       "        vertical-align: middle;\n",
       "    }\n",
       "\n",
       "    .dataframe tbody tr th {\n",
       "        vertical-align: top;\n",
       "    }\n",
       "\n",
       "    .dataframe thead th {\n",
       "        text-align: right;\n",
       "    }\n",
       "</style>\n",
       "<table border=\"1\" class=\"dataframe\">\n",
       "  <thead>\n",
       "    <tr style=\"text-align: right;\">\n",
       "      <th></th>\n",
       "      <th>Country</th>\n",
       "      <th>Continent</th>\n",
       "      <th>Doctors_per_10k</th>\n",
       "    </tr>\n",
       "  </thead>\n",
       "  <tbody>\n",
       "    <tr>\n",
       "      <th>0</th>\n",
       "      <td>Angola</td>\n",
       "      <td>Africa</td>\n",
       "      <td>2.146</td>\n",
       "    </tr>\n",
       "    <tr>\n",
       "      <th>1</th>\n",
       "      <td>Burundi</td>\n",
       "      <td>Africa</td>\n",
       "      <td>1.001</td>\n",
       "    </tr>\n",
       "  </tbody>\n",
       "</table>\n",
       "</div>"
      ],
      "text/plain": [
       "   Country Continent  Doctors_per_10k\n",
       "0   Angola    Africa            2.146\n",
       "1  Burundi    Africa            1.001"
      ]
     },
     "execution_count": 8,
     "metadata": {},
     "output_type": "execute_result"
    }
   ],
   "source": [
    "merged_gho_df = country_df.merge(doctors_df, left_on='Code', right_on='SpatialDim')[['Title','ParentTitle','NumericValue']]\n",
    "merged_gho_df.columns = ['Country', 'Continent','Doctors_per_10k']\n",
    "merged_gho_df.head(2)"
   ]
  },
  {
   "cell_type": "code",
   "execution_count": 80,
   "id": "yellow-chester",
   "metadata": {},
   "outputs": [],
   "source": [
    "gho_plus_malaria_df = merged_gho_df.merge(malaria_estimated_numbers_2017, left_on='Country', right_on='Country')[['Country','Continent','Doctors_per_10k','Year','No. of cases_median','No. of deaths_median']]\n",
    "gho_plus_malaria_df.columns = ['Country','Continent','Doctors/10k','Year','No of sick People', 'No of dead people']"
   ]
  },
  {
   "cell_type": "code",
   "execution_count": 81,
   "id": "infrared-conservation",
   "metadata": {},
   "outputs": [
    {
     "data": {
      "text/html": [
       "<div>\n",
       "<style scoped>\n",
       "    .dataframe tbody tr th:only-of-type {\n",
       "        vertical-align: middle;\n",
       "    }\n",
       "\n",
       "    .dataframe tbody tr th {\n",
       "        vertical-align: top;\n",
       "    }\n",
       "\n",
       "    .dataframe thead th {\n",
       "        text-align: right;\n",
       "    }\n",
       "</style>\n",
       "<table border=\"1\" class=\"dataframe\">\n",
       "  <thead>\n",
       "    <tr style=\"text-align: right;\">\n",
       "      <th></th>\n",
       "      <th>Country</th>\n",
       "      <th>Continent</th>\n",
       "      <th>Doctors/10k</th>\n",
       "      <th>Year</th>\n",
       "      <th>No of sick People</th>\n",
       "      <th>No of dead people</th>\n",
       "    </tr>\n",
       "  </thead>\n",
       "  <tbody>\n",
       "    <tr>\n",
       "      <th>2</th>\n",
       "      <td>Burkina Faso</td>\n",
       "      <td>Africa</td>\n",
       "      <td>0.847</td>\n",
       "      <td>2017</td>\n",
       "      <td>7907562</td>\n",
       "      <td>27791</td>\n",
       "    </tr>\n",
       "    <tr>\n",
       "      <th>46</th>\n",
       "      <td>India</td>\n",
       "      <td>South-East Asia</td>\n",
       "      <td>7.779</td>\n",
       "      <td>2017</td>\n",
       "      <td>9590000</td>\n",
       "      <td>16733</td>\n",
       "    </tr>\n",
       "    <tr>\n",
       "      <th>11</th>\n",
       "      <td>Mozambique</td>\n",
       "      <td>Africa</td>\n",
       "      <td>0.761</td>\n",
       "      <td>2017</td>\n",
       "      <td>10025823</td>\n",
       "      <td>14713</td>\n",
       "    </tr>\n",
       "    <tr>\n",
       "      <th>6</th>\n",
       "      <td>Uganda</td>\n",
       "      <td>Africa</td>\n",
       "      <td>1.68</td>\n",
       "      <td>2017</td>\n",
       "      <td>8600724</td>\n",
       "      <td>14390</td>\n",
       "    </tr>\n",
       "    <tr>\n",
       "      <th>0</th>\n",
       "      <td>Angola</td>\n",
       "      <td>Africa</td>\n",
       "      <td>2.146</td>\n",
       "      <td>2017</td>\n",
       "      <td>4615605</td>\n",
       "      <td>13316</td>\n",
       "    </tr>\n",
       "    <tr>\n",
       "      <th>16</th>\n",
       "      <td>Ghana</td>\n",
       "      <td>Africa</td>\n",
       "      <td>0.92</td>\n",
       "      <td>2017</td>\n",
       "      <td>7805045</td>\n",
       "      <td>10917</td>\n",
       "    </tr>\n",
       "    <tr>\n",
       "      <th>4</th>\n",
       "      <td>Chad</td>\n",
       "      <td>Africa</td>\n",
       "      <td>0.434</td>\n",
       "      <td>2017</td>\n",
       "      <td>2779489</td>\n",
       "      <td>8729</td>\n",
       "    </tr>\n",
       "    <tr>\n",
       "      <th>5</th>\n",
       "      <td>Togo</td>\n",
       "      <td>Africa</td>\n",
       "      <td>0.757</td>\n",
       "      <td>2017</td>\n",
       "      <td>2891868</td>\n",
       "      <td>5341</td>\n",
       "    </tr>\n",
       "    <tr>\n",
       "      <th>1</th>\n",
       "      <td>Burundi</td>\n",
       "      <td>Africa</td>\n",
       "      <td>1.001</td>\n",
       "      <td>2017</td>\n",
       "      <td>2113066</td>\n",
       "      <td>5253</td>\n",
       "    </tr>\n",
       "    <tr>\n",
       "      <th>8</th>\n",
       "      <td>Senegal</td>\n",
       "      <td>Africa</td>\n",
       "      <td>0.691</td>\n",
       "      <td>2017</td>\n",
       "      <td>1024285</td>\n",
       "      <td>4523</td>\n",
       "    </tr>\n",
       "  </tbody>\n",
       "</table>\n",
       "</div>"
      ],
      "text/plain": [
       "         Country        Continent Doctors/10k  Year  No of sick People  \\\n",
       "2   Burkina Faso           Africa       0.847  2017            7907562   \n",
       "46         India  South-East Asia       7.779  2017            9590000   \n",
       "11    Mozambique           Africa       0.761  2017           10025823   \n",
       "6         Uganda           Africa        1.68  2017            8600724   \n",
       "0         Angola           Africa       2.146  2017            4615605   \n",
       "16         Ghana           Africa        0.92  2017            7805045   \n",
       "4           Chad           Africa       0.434  2017            2779489   \n",
       "5           Togo           Africa       0.757  2017            2891868   \n",
       "1        Burundi           Africa       1.001  2017            2113066   \n",
       "8        Senegal           Africa       0.691  2017            1024285   \n",
       "\n",
       "    No of dead people  \n",
       "2               27791  \n",
       "46              16733  \n",
       "11              14713  \n",
       "6               14390  \n",
       "0               13316  \n",
       "16              10917  \n",
       "4                8729  \n",
       "5                5341  \n",
       "1                5253  \n",
       "8                4523  "
      ]
     },
     "execution_count": 81,
     "metadata": {},
     "output_type": "execute_result"
    }
   ],
   "source": [
    "gho_plus_malaria_df.sort_values(by=['No of dead people'], ascending=False).head(10)\n"
   ]
  },
  {
   "cell_type": "code",
   "execution_count": null,
   "id": "champion-calculation",
   "metadata": {},
   "outputs": [],
   "source": [
    "import mysql.connector\n",
    "from mysql.connector.constants import ClientFlag\n",
    "pwd = open(\"../SQL Token/SQL_pwd\", \"r\")\n",
    "host = open(\"../SQL Token/SQL_host\", \"r\")\n",
    "config = {\n",
    "    'user': 'Mathieu',\n",
    "    'password' : pwd.read().strip(),\n",
    "    'host' : host.read().strip(),\n",
    "    'client_flags' : [ClientFlag.SSL],\n",
    "    'ssl_ca': '../SQL Token/server-ca.pem',\n",
    "    'ssl_cert': '../SQL Token/client-cert.pem',\n",
    "    'ssl_key': '../SQL Token/client-key.pem'\n",
    "}\n",
    "\n",
    "# establish connection\n",
    "cnxn = mysql.connector.connect(**config)"
   ]
  },
  {
   "cell_type": "code",
   "execution_count": null,
   "id": "dependent-opera",
   "metadata": {},
   "outputs": [],
   "source": [
    "# create a database\n",
    "cursor = cnxn.cursor() # initialize connection cursor\n",
    "cursor.execute('CREATE DATABASE malaria')\n",
    "cnxn.close()"
   ]
  },
  {
   "cell_type": "code",
   "execution_count": 76,
   "id": "located-organ",
   "metadata": {},
   "outputs": [],
   "source": [
    "# connect to malaria by adding it to config dictionnary\n",
    "import mysql.connector\n",
    "from mysql.connector.constants import ClientFlag\n",
    "pwd = open(\"../SQL Token/SQL_pwd\", \"r\")\n",
    "host = open(\"../SQL Token/SQL_host\", \"r\")\n",
    "config = {\n",
    "    'user': 'Mathieu',\n",
    "    'password' : pwd.read().strip(),\n",
    "    'host' : host.read().strip(),\n",
    "    'client_flags' : [ClientFlag.SSL],\n",
    "    'ssl_ca': '../SQL Token/server-ca.pem',\n",
    "    'ssl_cert': '../SQL Token/client-cert.pem',\n",
    "    'ssl_key': '../SQL Token/client-key.pem'\n",
    "}\n",
    "config['database'] = 'malaria'\n",
    "cnxn = mysql.connector.connect(**config)\n",
    "cursor = cnxn.cursor()\n",
    "cursor.execute('CREATE TABLE doctors_world ('\n",
    "                 'Country VARCHAR(255),'\n",
    "                 'Continent VARCHAR(255),'\n",
    "                 'Doctors_per_10k FLOAT )')\n",
    "\n",
    "cnxn.commit() # commit changes to the DB"
   ]
  },
  {
   "cell_type": "code",
   "execution_count": 77,
   "id": "wrong-instrumentation",
   "metadata": {},
   "outputs": [],
   "source": [
    "data = list(merged_gho_df.to_records(index=False))\n",
    "data = [tuple(x) for x in data] # data contain initialy numpy records and executemany is expecting tuples\n",
    "# setup the query\n",
    "query = (\"INSERT INTO doctors_world (Country, Continent, Doctors_per_10k) VALUES (%s, %s, %s)\")\n",
    "\n",
    "# execute with every row in dataframe\n",
    "cursor.executemany(query,data)\n",
    "cnxn.commit()"
   ]
  },
  {
   "cell_type": "code",
   "execution_count": 86,
   "id": "surface-hughes",
   "metadata": {},
   "outputs": [
    {
     "name": "stdout",
     "output_type": "stream",
     "text": [
      "('Angola', 'Africa', 2.146)\n",
      "('Burundi', 'Africa', 1.001)\n",
      "('Burkina Faso', 'Africa', 0.847)\n",
      "('Zimbabwe', 'Africa', 1.859)\n",
      "('Chad', 'Africa', 0.434)\n",
      "('Togo', 'Africa', 0.757)\n",
      "('Uganda', 'Africa', 1.68)\n",
      "('South Africa', 'Africa', 7.833)\n",
      "('Senegal', 'Africa', 0.691)\n",
      "('Namibia', 'Africa', 5.914)\n"
     ]
    }
   ],
   "source": [
    "cursor.execute(\"SELECT * FROM doctors_world LIMIT 10\")\n",
    "out = cursor.fetchall()\n",
    "for row in out:\n",
    "    print(row)"
   ]
  },
  {
   "cell_type": "code",
   "execution_count": 75,
   "id": "drawn-sherman",
   "metadata": {},
   "outputs": [],
   "source": [
    "#cursor.execute('DROP TABLE doctors_world')\n",
    "#cnxn.commit() # commit changes to the DB"
   ]
  },
  {
   "cell_type": "code",
   "execution_count": 66,
   "id": "sitting-notification",
   "metadata": {},
   "outputs": [],
   "source": [
    "#cursor.execute('TRUNCATE TABLE doctors_world')\n",
    "#cnxn.commit()"
   ]
  },
  {
   "cell_type": "code",
   "execution_count": 84,
   "id": "dedicated-violation",
   "metadata": {},
   "outputs": [],
   "source": [
    "# Create second table\n",
    "cursor.execute('CREATE TABLE malaria_count ('\n",
    "                 'Country VARCHAR(255),'\n",
    "                 'Year SMALLINT,'\n",
    "                 'Cases BIGINT,'              \n",
    "                 'Deaths BIGINT )')\n",
    "\n",
    "cnxn.commit() # commit changes to the DB"
   ]
  },
  {
   "cell_type": "code",
   "execution_count": 118,
   "id": "decimal-kidney",
   "metadata": {},
   "outputs": [
    {
     "name": "stderr",
     "output_type": "stream",
     "text": [
      "/home/osboxes/anaconda3/lib/python3.8/site-packages/pandas/core/frame.py:3065: SettingWithCopyWarning: \n",
      "A value is trying to be set on a copy of a slice from a DataFrame.\n",
      "Try using .loc[row_indexer,col_indexer] = value instead\n",
      "\n",
      "See the caveats in the documentation: https://pandas.pydata.org/pandas-docs/stable/user_guide/indexing.html#returning-a-view-versus-a-copy\n",
      "  self[k1] = value[k2]\n"
     ]
    }
   ],
   "source": [
    "malaria_cleaned = malaria_estimated_numbers_2017[['Country','Year','No. of cases_median','No. of deaths_median']]\n",
    "malaria_cleaned[['Year', 'No. of cases_median', 'No. of deaths_median']] = malaria_cleaned[['Year', 'No. of cases_median', 'No. of deaths_median']].astype(str)\n",
    "\n",
    "data = list(malaria_cleaned.to_records(index=False))\n",
    "data = [tuple(x) for x in data] # data contain initialy numpy records and executemany is expecting tuples\n",
    "# setup the query\n",
    "query = (\"INSERT INTO malaria_count (Country, Year, Cases, Deaths) VALUES (%s, %s, %s, %s)\")\n",
    "#cursor.execute(\"INSERT INTO malaria_count (Country, Year, Cases, Deaths) VALUES ('Afghanistan', 2017, 630308, 298)\")\n",
    "# execute with every row in dataframe\n",
    "cursor.executemany(query,data)\n",
    "cnxn.commit()"
   ]
  },
  {
   "cell_type": "code",
   "execution_count": 117,
   "id": "insured-chess",
   "metadata": {},
   "outputs": [],
   "source": [
    "# Clear Malaria Table - BEWARE\n",
    "#cursor.execute('TRUNCATE TABLE malaria_count')\n",
    "#cnxn.commit()"
   ]
  },
  {
   "cell_type": "code",
   "execution_count": 124,
   "id": "minus-socket",
   "metadata": {},
   "outputs": [],
   "source": [
    "# Connection to database\n",
    "import mysql.connector\n",
    "from mysql.connector.constants import ClientFlag\n",
    "pwd = open(\"../SQL Token/SQL_pwd\", \"r\")\n",
    "host = open(\"../SQL Token/SQL_host\", \"r\")\n",
    "config = {\n",
    "    'user': 'Mathieu',\n",
    "    'password' : pwd.read().strip(),\n",
    "    'host' : host.read().strip(),\n",
    "    'client_flags' : [ClientFlag.SSL],\n",
    "    'ssl_ca': '../SQL Token/server-ca.pem',\n",
    "    'ssl_cert': '../SQL Token/client-cert.pem',\n",
    "    'ssl_key': '../SQL Token/client-key.pem'\n",
    "}\n",
    "config['database'] = 'malaria'\n",
    "cnxn = mysql.connector.connect(**config)\n",
    "cursor = cnxn.cursor()"
   ]
  },
  {
   "cell_type": "code",
   "execution_count": 131,
   "id": "minute-chicken",
   "metadata": {},
   "outputs": [
    {
     "name": "stdout",
     "output_type": "stream",
     "text": [
      "('Afghanistan', 2017, 630308, 298)\n",
      "('Algeria', 2017, 0, 0)\n"
     ]
    }
   ],
   "source": [
    "cursor.execute(\"SELECT * FROM malaria_count LIMIT 2\")\n",
    "out = cursor.fetchall()\n",
    "for row in out:\n",
    "    print(row)"
   ]
  },
  {
   "cell_type": "code",
   "execution_count": 130,
   "id": "identical-delay",
   "metadata": {},
   "outputs": [
    {
     "name": "stdout",
     "output_type": "stream",
     "text": [
      "('Angola', 'Africa', 2.146)\n",
      "('Burundi', 'Africa', 1.001)\n"
     ]
    }
   ],
   "source": [
    "cursor.execute(\"SELECT * FROM doctors_world LIMIT 2\")\n",
    "out = cursor.fetchall()\n",
    "for row in out:\n",
    "    print(row)"
   ]
  },
  {
   "cell_type": "code",
   "execution_count": 129,
   "id": "lucky-class",
   "metadata": {},
   "outputs": [
    {
     "name": "stdout",
     "output_type": "stream",
     "text": [
      "('def', 'malaria', 'doctors_world', 'Country', 1, None, 'YES', 'varchar', 255, 765, None, None, None, 'utf8', 'utf8_general_ci', 'varchar(255)', '', '', 'select,insert,update,references', '', '')\n",
      "('def', 'malaria', 'doctors_world', 'Continent', 2, None, 'YES', 'varchar', 255, 765, None, None, None, 'utf8', 'utf8_general_ci', 'varchar(255)', '', '', 'select,insert,update,references', '', '')\n",
      "('def', 'malaria', 'doctors_world', 'Doctors_per_10k', 3, None, 'YES', 'float', None, None, 12, None, None, None, None, 'float', '', '', 'select,insert,update,references', '', '')\n"
     ]
    }
   ],
   "source": [
    "# Get Table names to prepare groupby\n",
    "cursor.execute(\"\"\"SELECT *\n",
    "FROM INFORMATION_SCHEMA.COLUMNS\n",
    "WHERE TABLE_NAME = N'doctors_world'\n",
    "\"\"\")\n",
    "out = cursor.fetchall()\n",
    "for row in out:\n",
    "    print(row)"
   ]
  },
  {
   "cell_type": "code",
   "execution_count": 135,
   "id": "italian-reliance",
   "metadata": {},
   "outputs": [
    {
     "name": "stdout",
     "output_type": "stream",
     "text": [
      "('Angola', 'Africa', 2.146, 'Angola', 2017, 4615605, 13316)\n",
      "('Burundi', 'Africa', 1.001, 'Burundi', 2017, 2113066, 5253)\n"
     ]
    }
   ],
   "source": [
    "cursor.execute(\"\"\"SELECT *\n",
    "                    FROM doctors_world\n",
    "                    INNER JOIN malaria_count\n",
    "                    ON doctors_world.Country = malaria_count.Country LIMIT 2\"\"\")\n",
    "out = cursor.fetchall()\n",
    "for row in out:\n",
    "    print(row)"
   ]
  },
  {
   "cell_type": "code",
   "execution_count": 141,
   "id": "hollywood-bloom",
   "metadata": {},
   "outputs": [
    {
     "data": {
      "text/html": [
       "<div>\n",
       "<style scoped>\n",
       "    .dataframe tbody tr th:only-of-type {\n",
       "        vertical-align: middle;\n",
       "    }\n",
       "\n",
       "    .dataframe tbody tr th {\n",
       "        vertical-align: top;\n",
       "    }\n",
       "\n",
       "    .dataframe thead th {\n",
       "        text-align: right;\n",
       "    }\n",
       "</style>\n",
       "<table border=\"1\" class=\"dataframe\">\n",
       "  <thead>\n",
       "    <tr style=\"text-align: right;\">\n",
       "      <th></th>\n",
       "      <th>Country</th>\n",
       "      <th>Continent</th>\n",
       "      <th>Doctors_per_10k</th>\n",
       "      <th>Year</th>\n",
       "      <th>Malaria Count</th>\n",
       "      <th>Malaria Deaths</th>\n",
       "    </tr>\n",
       "  </thead>\n",
       "  <tbody>\n",
       "    <tr>\n",
       "      <th>0</th>\n",
       "      <td>Angola</td>\n",
       "      <td>Africa</td>\n",
       "      <td>2.146</td>\n",
       "      <td>2017</td>\n",
       "      <td>4615605</td>\n",
       "      <td>13316</td>\n",
       "    </tr>\n",
       "    <tr>\n",
       "      <th>1</th>\n",
       "      <td>Burundi</td>\n",
       "      <td>Africa</td>\n",
       "      <td>1.001</td>\n",
       "      <td>2017</td>\n",
       "      <td>2113066</td>\n",
       "      <td>5253</td>\n",
       "    </tr>\n",
       "  </tbody>\n",
       "</table>\n",
       "</div>"
      ],
      "text/plain": [
       "   Country Continent  Doctors_per_10k  Year  Malaria Count  Malaria Deaths\n",
       "0   Angola    Africa            2.146  2017        4615605           13316\n",
       "1  Burundi    Africa            1.001  2017        2113066            5253"
      ]
     },
     "execution_count": 141,
     "metadata": {},
     "output_type": "execute_result"
    }
   ],
   "source": [
    "\n",
    "merged_data = pd.DataFrame(out)#.columns = ['Country', 'Continent','Doctors_per_10k']\n",
    "merged_data = merged_data.drop([3], axis=1)\n",
    "merged_data.columns = ['Country', 'Continent','Doctors_per_10k','Year','Malaria Count','Malaria Deaths']\n",
    "merged_data"
   ]
  },
  {
   "cell_type": "code",
   "execution_count": null,
   "id": "welcome-lease",
   "metadata": {},
   "outputs": [],
   "source": []
  }
 ],
 "metadata": {
  "kernelspec": {
   "display_name": "Python 3",
   "language": "python",
   "name": "python3"
  },
  "language_info": {
   "codemirror_mode": {
    "name": "ipython",
    "version": 3
   },
   "file_extension": ".py",
   "mimetype": "text/x-python",
   "name": "python",
   "nbconvert_exporter": "python",
   "pygments_lexer": "ipython3",
   "version": "3.8.5"
  }
 },
 "nbformat": 4,
 "nbformat_minor": 5
}
