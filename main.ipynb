{
 "cells": [
  {
   "cell_type": "code",
   "execution_count": 2,
   "id": "expressed-relay",
   "metadata": {},
   "outputs": [],
   "source": [
    "import json\n",
    "import requests\n",
    "import pandas as pd\n",
    "from pandas import json_normalize\n",
    "import mysql.connector\n",
    "from mysql.connector.constants import ClientFlag"
   ]
  },
  {
   "cell_type": "markdown",
   "id": "cooked-leeds",
   "metadata": {},
   "source": [
    "# Gathering two sources of data for the project\n",
    "## World Health Organization API :\n",
    "- https://www.who.int/data/gho/info/gho-odata-api\n",
    "- It uses Open Data Protocol :\n",
    "https://www.odata.org/documentation/odata-version-2-0/uri-conventions/\n",
    "\n",
    "## Kaggle datasets :\n",
    "https://www.kaggle.com/imdevskp/malaria-dataset\n",
    "We will use estimated_numbers.csv"
   ]
  },
  {
   "cell_type": "code",
   "execution_count": 5,
   "id": "configured-massachusetts",
   "metadata": {},
   "outputs": [
    {
     "name": "stdout",
     "output_type": "stream",
     "text": [
      "  SpatialDim  NumericValue\n",
      "0        AGO         2.146\n",
      "1        ARE        24.356\n",
      "  Code    Title Dimension ParentDimension ParentCode ParentTitle\n",
      "0  AGO   Angola   COUNTRY          REGION        AFR      Africa\n",
      "1  BDI  Burundi   COUNTRY          REGION        AFR      Africa\n"
     ]
    }
   ],
   "source": [
    "# Getting medical doctors per 10k by requesting send two requests on the API :\n",
    "\n",
    "#HWF_0001 is the indicator code for medical doctors per 10000, we then filter by date in 2017\n",
    "medical_doctors_per_10k = requests.get('https://ghoapi.azureedge.net/api/HWF_0001?$filter=date(TimeDimensionBegin) ge 2017-01-01 and date(TimeDimensionBegin) lt 2018-01-01').json()\n",
    "doctors_df = pd.DataFrame(medical_doctors_per_10k['value'])[['SpatialDim','NumericValue']]\n",
    "print(doctors_df.head(2))\n",
    "\n",
    "#Second request to link Country Code of the first request with the Country Name.\n",
    "country_list_code = requests.get('https://ghoapi.azureedge.net/api/DIMENSION/COUNTRY/DimensionValues').json()\n",
    "country_df = pd.DataFrame(country_list_code['value'])\n",
    "print(country_df.head(2))"
   ]
  },
  {
   "cell_type": "code",
   "execution_count": 6,
   "id": "lightweight-thriller",
   "metadata": {},
   "outputs": [
    {
     "data": {
      "text/html": [
       "<div>\n",
       "<style scoped>\n",
       "    .dataframe tbody tr th:only-of-type {\n",
       "        vertical-align: middle;\n",
       "    }\n",
       "\n",
       "    .dataframe tbody tr th {\n",
       "        vertical-align: top;\n",
       "    }\n",
       "\n",
       "    .dataframe thead th {\n",
       "        text-align: right;\n",
       "    }\n",
       "</style>\n",
       "<table border=\"1\" class=\"dataframe\">\n",
       "  <thead>\n",
       "    <tr style=\"text-align: right;\">\n",
       "      <th></th>\n",
       "      <th>Country</th>\n",
       "      <th>Year</th>\n",
       "      <th>No. of cases</th>\n",
       "      <th>No. of deaths</th>\n",
       "      <th>No. of cases_median</th>\n",
       "      <th>No. of cases_min</th>\n",
       "      <th>No. of cases_max</th>\n",
       "      <th>No. of deaths_median</th>\n",
       "      <th>No. of deaths_min</th>\n",
       "      <th>No. of deaths_max</th>\n",
       "      <th>WHO Region</th>\n",
       "    </tr>\n",
       "  </thead>\n",
       "  <tbody>\n",
       "    <tr>\n",
       "      <th>0</th>\n",
       "      <td>Afghanistan</td>\n",
       "      <td>2017</td>\n",
       "      <td>630308[495000-801000]</td>\n",
       "      <td>298[110-510]</td>\n",
       "      <td>630308</td>\n",
       "      <td>495000.0</td>\n",
       "      <td>801000.0</td>\n",
       "      <td>298</td>\n",
       "      <td>110.0</td>\n",
       "      <td>510.0</td>\n",
       "      <td>Eastern Mediterranean</td>\n",
       "    </tr>\n",
       "    <tr>\n",
       "      <th>1</th>\n",
       "      <td>Algeria</td>\n",
       "      <td>2017</td>\n",
       "      <td>0</td>\n",
       "      <td>0</td>\n",
       "      <td>0</td>\n",
       "      <td>NaN</td>\n",
       "      <td>NaN</td>\n",
       "      <td>0</td>\n",
       "      <td>NaN</td>\n",
       "      <td>NaN</td>\n",
       "      <td>Africa</td>\n",
       "    </tr>\n",
       "  </tbody>\n",
       "</table>\n",
       "</div>"
      ],
      "text/plain": [
       "       Country  Year           No. of cases No. of deaths  \\\n",
       "0  Afghanistan  2017  630308[495000-801000]  298[110-510]   \n",
       "1      Algeria  2017                      0             0   \n",
       "\n",
       "   No. of cases_median  No. of cases_min  No. of cases_max  \\\n",
       "0               630308          495000.0          801000.0   \n",
       "1                    0               NaN               NaN   \n",
       "\n",
       "   No. of deaths_median  No. of deaths_min  No. of deaths_max  \\\n",
       "0                   298              110.0              510.0   \n",
       "1                     0                NaN                NaN   \n",
       "\n",
       "              WHO Region  \n",
       "0  Eastern Mediterranean  \n",
       "1                 Africa  "
      ]
     },
     "execution_count": 6,
     "metadata": {},
     "output_type": "execute_result"
    }
   ],
   "source": [
    "# Getting malaria data in the world in 2017\n",
    "malaria_estimated_numbers = pd.read_csv('./estimated_numbers.csv')\n",
    "malaria_estimated_numbers_2017 = malaria_estimated_numbers[malaria_estimated_numbers['Year'].between(2017, 2017)]\n",
    "malaria_estimated_numbers_2017.head(2)"
   ]
  },
  {
   "cell_type": "code",
   "execution_count": 8,
   "id": "ambient-tours",
   "metadata": {},
   "outputs": [
    {
     "data": {
      "text/html": [
       "<div>\n",
       "<style scoped>\n",
       "    .dataframe tbody tr th:only-of-type {\n",
       "        vertical-align: middle;\n",
       "    }\n",
       "\n",
       "    .dataframe tbody tr th {\n",
       "        vertical-align: top;\n",
       "    }\n",
       "\n",
       "    .dataframe thead th {\n",
       "        text-align: right;\n",
       "    }\n",
       "</style>\n",
       "<table border=\"1\" class=\"dataframe\">\n",
       "  <thead>\n",
       "    <tr style=\"text-align: right;\">\n",
       "      <th></th>\n",
       "      <th>Country</th>\n",
       "      <th>Continent</th>\n",
       "      <th>Doctors_per_10k</th>\n",
       "    </tr>\n",
       "  </thead>\n",
       "  <tbody>\n",
       "    <tr>\n",
       "      <th>0</th>\n",
       "      <td>Angola</td>\n",
       "      <td>Africa</td>\n",
       "      <td>2.146</td>\n",
       "    </tr>\n",
       "    <tr>\n",
       "      <th>1</th>\n",
       "      <td>Burundi</td>\n",
       "      <td>Africa</td>\n",
       "      <td>1.001</td>\n",
       "    </tr>\n",
       "  </tbody>\n",
       "</table>\n",
       "</div>"
      ],
      "text/plain": [
       "   Country Continent  Doctors_per_10k\n",
       "0   Angola    Africa            2.146\n",
       "1  Burundi    Africa            1.001"
      ]
     },
     "execution_count": 8,
     "metadata": {},
     "output_type": "execute_result"
    }
   ],
   "source": [
    "# Merge the first and second dataframe on the API and prepare clean data\n",
    "merged_gho_df = country_df.merge(doctors_df, left_on='Code', right_on='SpatialDim')[['Title','ParentTitle','NumericValue']]\n",
    "merged_gho_df.columns = ['Country', 'Continent','Doctors_per_10k']\n",
    "merged_gho_df.head(2)"
   ]
  },
  {
   "cell_type": "code",
   "execution_count": null,
   "id": "optional-walker",
   "metadata": {},
   "outputs": [],
   "source": [
    "# This part is not used, we want to put the two tables on SQL, it is an alternative for dataframe merges\n",
    "\"\"\"\n",
    "gho_plus_malaria_df = merged_gho_df.merge(malaria_estimated_numbers_2017, left_on='Country', right_on='Country')[['Country','Continent','Doctors_per_10k','Year','No. of cases_median','No. of deaths_median']]\n",
    "gho_plus_malaria_df.columns = ['Country','Continent','Doctors/10k','Year','No of sick People', 'No of dead people']\n",
    "gho_plus_malaria_df.sort_values(by=['No of dead people'], ascending=False).head(10)\n",
    "\"\"\""
   ]
  },
  {
   "cell_type": "markdown",
   "id": "stable-intake",
   "metadata": {},
   "source": [
    "# Send data on SQL database\n",
    "- To host the data I chose to work on [SQL Cloud](https://cloud.google.com/)\n",
    "- I followed a tutorial from [Towards Data Science](https://towardsdatascience.com/sql-on-the-cloud-with-python-c08a30807661)\n",
    "- The tutorial is saved as a PDF on the repository :\n",
    "SQL on The Cloud With Google Cloud and Python | Towards Data Science.pdf"
   ]
  },
  {
   "cell_type": "code",
   "execution_count": null,
   "id": "material-atlantic",
   "metadata": {},
   "outputs": [],
   "source": [
    "# Initialize SQL connexion by reading IP host, user password and ssl parameters from files \n",
    "pwd = open(\"../SQL Token/SQL_pwd\", \"r\")\n",
    "host = open(\"../SQL Token/SQL_host\", \"r\")\n",
    "config = {\n",
    "    'user': 'Mathieu',\n",
    "    'password' : pwd.read().strip(),\n",
    "    'host' : host.read().strip(),\n",
    "    'client_flags' : [ClientFlag.SSL],\n",
    "    'ssl_ca': '../SQL Token/server-ca.pem',\n",
    "    'ssl_cert': '../SQL Token/client-cert.pem',\n",
    "    'ssl_key': '../SQL Token/client-key.pem'\n",
    "}\n",
    "# establish connection\n",
    "cnxn = mysql.connector.connect(**config)\n",
    "\n",
    "# create a database malaria\n",
    "cursor = cnxn.cursor() # initialize connection cursor\n",
    "cursor.execute('CREATE DATABASE malaria')\n",
    "cnxn.close()"
   ]
  },
  {
   "cell_type": "code",
   "execution_count": null,
   "id": "according-eugene",
   "metadata": {},
   "outputs": [],
   "source": [
    "# We now have a database named \"malaria\"\n",
    "# We can connect to malaria by adding it to config dictionnary\n",
    "# then create the first table \"doctors_world\"\n",
    "\n",
    "config['database'] = 'malaria'\n",
    "cnxn = mysql.connector.connect(**config)\n",
    "cursor = cnxn.cursor()\n",
    "cursor.execute('CREATE TABLE doctors_world ('\n",
    "                 'Country VARCHAR(255),'\n",
    "                 'Continent VARCHAR(255),'\n",
    "                 'Doctors_per_10k FLOAT )')\n",
    "\n",
    "cnxn.commit() # commit changes to the DB"
   ]
  },
  {
   "cell_type": "code",
   "execution_count": 77,
   "id": "looking-association",
   "metadata": {},
   "outputs": [],
   "source": [
    "# before inserting data we need to cast it in the right format\n",
    "# data contain initialy numpy records and executemany is expecting tuples\n",
    "data_to_insert = [tuple(x) for x in list(merged_gho_df.to_records(index=False))] \n",
    "\n",
    "# setup the query\n",
    "query = (\"INSERT INTO doctors_world (Country, Continent, Doctors_per_10k) VALUES (%s, %s, %s)\")\n",
    "# execute with every row in dataframe\n",
    "cursor.executemany(query,data_to_insert)\n",
    "cnxn.commit()"
   ]
  },
  {
   "cell_type": "code",
   "execution_count": 84,
   "id": "funny-anaheim",
   "metadata": {},
   "outputs": [],
   "source": [
    "# Create second table \"malaria_count\"\n",
    "cursor.execute('CREATE TABLE malaria_count ('\n",
    "                 'Country VARCHAR(255),'\n",
    "                 'Year SMALLINT,'\n",
    "                 'Cases BIGINT,'              \n",
    "                 'Deaths BIGINT )')\n",
    "\n",
    "cnxn.commit() # commit changes to the DB"
   ]
  },
  {
   "cell_type": "code",
   "execution_count": 118,
   "id": "pacific-acoustic",
   "metadata": {},
   "outputs": [
    {
     "name": "stderr",
     "output_type": "stream",
     "text": [
      "/home/osboxes/anaconda3/lib/python3.8/site-packages/pandas/core/frame.py:3065: SettingWithCopyWarning: \n",
      "A value is trying to be set on a copy of a slice from a DataFrame.\n",
      "Try using .loc[row_indexer,col_indexer] = value instead\n",
      "\n",
      "See the caveats in the documentation: https://pandas.pydata.org/pandas-docs/stable/user_guide/indexing.html#returning-a-view-versus-a-copy\n",
      "  self[k1] = value[k2]\n"
     ]
    }
   ],
   "source": [
    "# Select only interesting column for new dataframe and cast data as string\n",
    "malaria_cleaned = malaria_estimated_numbers_2017[['Country','Year','No. of cases_median','No. of deaths_median']]\n",
    "malaria_cleaned[['Year', 'No. of cases_median', 'No. of deaths_median']] = malaria_cleaned[['Year', 'No. of cases_median', 'No. of deaths_median']].astype(str)\n",
    "\n",
    "# data contain initialy numpy records and executemany is expecting tuples\n",
    "data_to_insert = [tuple(x) for x in list(malaria_cleaned.to_records(index=False))] \n",
    "\n",
    "# setup the query\n",
    "query = (\"INSERT INTO malaria_count (Country, Year, Cases, Deaths) VALUES (%s, %s, %s, %s)\")\n",
    "\n",
    "# execute with every row in dataframe\n",
    "cursor.executemany(query,data_to_insert)\n",
    "cnxn.commit()"
   ]
  },
  {
   "cell_type": "markdown",
   "id": "iraqi-navigator",
   "metadata": {},
   "source": [
    "# Next section is used to clean / drop the table"
   ]
  },
  {
   "cell_type": "code",
   "execution_count": 75,
   "id": "handmade-tissue",
   "metadata": {},
   "outputs": [],
   "source": [
    "# WARNING - Used to delete or clean the table - BEWARE\n",
    "\n",
    "#cursor.execute('DROP TABLE doctors_world')\n",
    "#cnxn.commit() # commit changes to the DB\n",
    "\n",
    "#cursor.execute('TRUNCATE TABLE doctors_world')\n",
    "#cnxn.commit()\n",
    "\n",
    "#cursor.execute('TRUNCATE TABLE malaria_count')\n",
    "#cnxn.commit()"
   ]
  },
  {
   "cell_type": "markdown",
   "id": "australian-construction",
   "metadata": {},
   "source": [
    "# Check if data is correctly inserted in both tables"
   ]
  },
  {
   "cell_type": "code",
   "execution_count": 12,
   "id": "eight-discussion",
   "metadata": {},
   "outputs": [
    {
     "name": "stdout",
     "output_type": "stream",
     "text": [
      "('Afghanistan', 2017, 630308, 298)\n",
      "('Algeria', 2017, 0, 0)\n"
     ]
    }
   ],
   "source": [
    "cursor.execute(\"SELECT * FROM malaria_count LIMIT 2\")\n",
    "out = cursor.fetchall()\n",
    "for row in out:\n",
    "    print(row)"
   ]
  },
  {
   "cell_type": "code",
   "execution_count": 13,
   "id": "prepared-shock",
   "metadata": {},
   "outputs": [
    {
     "name": "stdout",
     "output_type": "stream",
     "text": [
      "('Angola', 'Africa', 2.146)\n",
      "('Burundi', 'Africa', 1.001)\n"
     ]
    }
   ],
   "source": [
    "cursor.execute(\"SELECT * FROM doctors_world LIMIT 2\")\n",
    "out = cursor.fetchall()\n",
    "for row in out:\n",
    "    print(row)"
   ]
  },
  {
   "cell_type": "markdown",
   "id": "focal-benefit",
   "metadata": {},
   "source": [
    "# Get and merge date from SQL"
   ]
  },
  {
   "cell_type": "code",
   "execution_count": 129,
   "id": "harmful-morrison",
   "metadata": {},
   "outputs": [
    {
     "name": "stdout",
     "output_type": "stream",
     "text": [
      "('def', 'malaria', 'doctors_world', 'Country', 1, None, 'YES', 'varchar', 255, 765, None, None, None, 'utf8', 'utf8_general_ci', 'varchar(255)', '', '', 'select,insert,update,references', '', '')\n",
      "('def', 'malaria', 'doctors_world', 'Continent', 2, None, 'YES', 'varchar', 255, 765, None, None, None, 'utf8', 'utf8_general_ci', 'varchar(255)', '', '', 'select,insert,update,references', '', '')\n",
      "('def', 'malaria', 'doctors_world', 'Doctors_per_10k', 3, None, 'YES', 'float', None, None, 12, None, None, None, None, 'float', '', '', 'select,insert,update,references', '', '')\n"
     ]
    }
   ],
   "source": [
    "# Get Table names to prepare groupby\n",
    "cursor.execute(\"\"\"SELECT *\n",
    "FROM INFORMATION_SCHEMA.COLUMNS\n",
    "WHERE TABLE_NAME = N'doctors_world'\n",
    "\"\"\")\n",
    "out = cursor.fetchall()\n",
    "for row in out:\n",
    "    print(row)"
   ]
  },
  {
   "cell_type": "code",
   "execution_count": 7,
   "id": "instructional-lottery",
   "metadata": {},
   "outputs": [],
   "source": [
    "# Get Data from both table with a JOIN\n",
    "cursor.execute(\"\"\"SELECT *\n",
    "                    FROM doctors_world\n",
    "                    INNER JOIN malaria_count\n",
    "                    ON doctors_world.Country = malaria_count.Country\"\"\")\n",
    "out = cursor.fetchall()"
   ]
  },
  {
   "cell_type": "markdown",
   "id": "graphic-metadata",
   "metadata": {},
   "source": [
    "# Clean merged data to use them"
   ]
  },
  {
   "cell_type": "code",
   "execution_count": 40,
   "id": "prerequisite-priest",
   "metadata": {},
   "outputs": [
    {
     "data": {
      "text/html": [
       "<div>\n",
       "<style scoped>\n",
       "    .dataframe tbody tr th:only-of-type {\n",
       "        vertical-align: middle;\n",
       "    }\n",
       "\n",
       "    .dataframe tbody tr th {\n",
       "        vertical-align: top;\n",
       "    }\n",
       "\n",
       "    .dataframe thead th {\n",
       "        text-align: right;\n",
       "    }\n",
       "</style>\n",
       "<table border=\"1\" class=\"dataframe\">\n",
       "  <thead>\n",
       "    <tr style=\"text-align: right;\">\n",
       "      <th></th>\n",
       "      <th>Country</th>\n",
       "      <th>Continent</th>\n",
       "      <th>Doctors_per_10k</th>\n",
       "      <th>Year</th>\n",
       "      <th>Malaria Count</th>\n",
       "      <th>Malaria Deaths</th>\n",
       "    </tr>\n",
       "  </thead>\n",
       "  <tbody>\n",
       "    <tr>\n",
       "      <th>0</th>\n",
       "      <td>Angola</td>\n",
       "      <td>Africa</td>\n",
       "      <td>2.146</td>\n",
       "      <td>2017</td>\n",
       "      <td>4615605</td>\n",
       "      <td>13316</td>\n",
       "    </tr>\n",
       "    <tr>\n",
       "      <th>1</th>\n",
       "      <td>Argentina</td>\n",
       "      <td>Americas</td>\n",
       "      <td>39.901</td>\n",
       "      <td>2017</td>\n",
       "      <td>0</td>\n",
       "      <td>0</td>\n",
       "    </tr>\n",
       "  </tbody>\n",
       "</table>\n",
       "</div>"
      ],
      "text/plain": [
       "     Country Continent  Doctors_per_10k  Year  Malaria Count  Malaria Deaths\n",
       "0     Angola    Africa            2.146  2017        4615605           13316\n",
       "1  Argentina  Americas           39.901  2017              0               0"
      ]
     },
     "execution_count": 40,
     "metadata": {},
     "output_type": "execute_result"
    }
   ],
   "source": [
    "merged_data = pd.DataFrame(out)\n",
    "merged_data = merged_data.drop([3], axis=1)\n",
    "merged_data.columns = ['Country', 'Continent','Doctors_per_10k','Year','Malaria Count','Malaria Deaths']\n",
    "merged_data.head(2)"
   ]
  },
  {
   "cell_type": "code",
   "execution_count": 39,
   "id": "arabic-effects",
   "metadata": {},
   "outputs": [
    {
     "data": {
      "text/html": [
       "<div>\n",
       "<style scoped>\n",
       "    .dataframe tbody tr th:only-of-type {\n",
       "        vertical-align: middle;\n",
       "    }\n",
       "\n",
       "    .dataframe tbody tr th {\n",
       "        vertical-align: top;\n",
       "    }\n",
       "\n",
       "    .dataframe thead th {\n",
       "        text-align: right;\n",
       "    }\n",
       "</style>\n",
       "<table border=\"1\" class=\"dataframe\">\n",
       "  <thead>\n",
       "    <tr style=\"text-align: right;\">\n",
       "      <th></th>\n",
       "      <th>Malaria Count</th>\n",
       "      <th>Malaria Deaths</th>\n",
       "      <th>Doctors_per_10k</th>\n",
       "      <th>% Malaria Deaths</th>\n",
       "      <th>% Doctors</th>\n",
       "    </tr>\n",
       "    <tr>\n",
       "      <th>Continent</th>\n",
       "      <th></th>\n",
       "      <th></th>\n",
       "      <th></th>\n",
       "      <th></th>\n",
       "      <th></th>\n",
       "    </tr>\n",
       "  </thead>\n",
       "  <tbody>\n",
       "    <tr>\n",
       "      <th>Africa</th>\n",
       "      <td>56421684</td>\n",
       "      <td>115187</td>\n",
       "      <td>40.040</td>\n",
       "      <td>82.182506</td>\n",
       "      <td>5.731668</td>\n",
       "    </tr>\n",
       "    <tr>\n",
       "      <th>Americas</th>\n",
       "      <td>846929</td>\n",
       "      <td>500</td>\n",
       "      <td>264.270</td>\n",
       "      <td>0.356735</td>\n",
       "      <td>37.829868</td>\n",
       "    </tr>\n",
       "    <tr>\n",
       "      <th>Eastern Mediterranean</th>\n",
       "      <td>2474427</td>\n",
       "      <td>4690</td>\n",
       "      <td>116.885</td>\n",
       "      <td>3.346176</td>\n",
       "      <td>16.731919</td>\n",
       "    </tr>\n",
       "    <tr>\n",
       "      <th>Europe</th>\n",
       "      <td>0</td>\n",
       "      <td>0</td>\n",
       "      <td>123.812</td>\n",
       "      <td>0.000000</td>\n",
       "      <td>17.723509</td>\n",
       "    </tr>\n",
       "    <tr>\n",
       "      <th>South-East Asia</th>\n",
       "      <td>11287365</td>\n",
       "      <td>19719</td>\n",
       "      <td>100.432</td>\n",
       "      <td>14.068921</td>\n",
       "      <td>14.376695</td>\n",
       "    </tr>\n",
       "    <tr>\n",
       "      <th>Western Pacific</th>\n",
       "      <td>36401</td>\n",
       "      <td>64</td>\n",
       "      <td>53.136</td>\n",
       "      <td>0.045662</td>\n",
       "      <td>7.606341</td>\n",
       "    </tr>\n",
       "  </tbody>\n",
       "</table>\n",
       "</div>"
      ],
      "text/plain": [
       "                       Malaria Count  Malaria Deaths  Doctors_per_10k  \\\n",
       "Continent                                                               \n",
       "Africa                      56421684          115187           40.040   \n",
       "Americas                      846929             500          264.270   \n",
       "Eastern Mediterranean        2474427            4690          116.885   \n",
       "Europe                             0               0          123.812   \n",
       "South-East Asia             11287365           19719          100.432   \n",
       "Western Pacific                36401              64           53.136   \n",
       "\n",
       "                       % Malaria Deaths  % Doctors  \n",
       "Continent                                           \n",
       "Africa                        82.182506   5.731668  \n",
       "Americas                       0.356735  37.829868  \n",
       "Eastern Mediterranean          3.346176  16.731919  \n",
       "Europe                         0.000000  17.723509  \n",
       "South-East Asia               14.068921  14.376695  \n",
       "Western Pacific                0.045662   7.606341  "
      ]
     },
     "execution_count": 39,
     "metadata": {},
     "output_type": "execute_result"
    }
   ],
   "source": [
    "# Final dataframe showing link with doctors and sick people\n",
    "total_malaria = merged_data.groupby(by=[\"Continent\"], as_index=True)[[\"Malaria Count\", \"Malaria Deaths\", \"Doctors_per_10k\"]].sum()\n",
    "total_malaria['% Malaria Deaths'] = total_malaria['Malaria Deaths'] / total_malaria['Malaria Deaths'].sum() * 100\n",
    "total_malaria['% Doctors'] = total_malaria['Doctors_per_10k'] / total_malaria['Doctors_per_10k'].sum() * 100\n",
    "total_malaria"
   ]
  }
 ],
 "metadata": {
  "kernelspec": {
   "display_name": "Python 3",
   "language": "python",
   "name": "python3"
  },
  "language_info": {
   "codemirror_mode": {
    "name": "ipython",
    "version": 3
   },
   "file_extension": ".py",
   "mimetype": "text/x-python",
   "name": "python",
   "nbconvert_exporter": "python",
   "pygments_lexer": "ipython3",
   "version": "3.8.5"
  }
 },
 "nbformat": 4,
 "nbformat_minor": 5
}
